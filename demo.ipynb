{
 "cells": [
  {
   "cell_type": "code",
   "execution_count": 14,
   "metadata": {},
   "outputs": [],
   "source": [
    "from tqdm.auto import tqdm\n",
    "import requests\n",
    "from requests.adapters import HTTPAdapter, Retry\n",
    "import os\n",
    "from dotenv import load_dotenv\n",
    "\n",
    "load_dotenv()\n",
    "BEARER_TOKEN = os.environ.get(\"BEARER_TOKEN\")\n",
    "batch_size = 100\n",
    "\n",
    "\n",
    "s = requests.Session()\n",
    "s.mount('http://', HTTPAdapter(max_retries=4))\n",
    "\n",
    "headers = {\n",
    "    \"Authorization\": f\"Bearer {BEARER_TOKEN}\"\n",
    "}"
   ]
  },
  {
   "cell_type": "code",
   "execution_count": 15,
   "metadata": {},
   "outputs": [
    {
     "data": {
      "text/plain": [
       "{'results': [{'query': 'Geeknet acquisition',\n",
       "   'results': [{'id': '0001326380-23-000019-730-735_0',\n",
       "     'text': 'The federal and state net operating loss carryovers acquired through the ThinkGeek acquisition experienced an ownership change on July 17, 2015, and we have determined that these net operating loss carryforwards will be subject to future limitation. During fiscal 2022, we received a $171.5 million U.S. federal income tax refund resulting from the 58GAMESTOP CORP.NOTES TO CONSOLIDATED FINANCIAL STATEMENTS(Tabular amounts in millions, except per share amounts)carryback of net operating losses allowed pursuant to the CARES Act. Income tax receivable is recognized in prepaid expenses and other current assets on our Consolidated Balance Sheets. As of January 28, 2023, the gross amount of unrecognized tax benefits was approximately $9.5 million. If we were to prevail on all uncertain tax positions, the net effect would be a benefit to our effective tax rate of approximately $9.',\n",
       "     'metadata': {'source': None,\n",
       "      'source_id': None,\n",
       "      'url': None,\n",
       "      'created_at': '1680052098.0',\n",
       "      'author': 'GME',\n",
       "      'document_id': '0001326380-23-000019-730-735'},\n",
       "     'embedding': None,\n",
       "     'score': 0.795900941},\n",
       "    {'id': '0001326380-23-000019-645-650_0',\n",
       "     'text': 'Asset ImpairmentsThe following is a summary of our asset impairment charges, by reportable segment: __________________________________________(1)    During 2020, we also recognized impairment charges of $0.5 million and $0.6 million related to our ThinkGeek trade name and Micromania trade name, respectively.10. LeasesIn July of 2020, we sold, in separate unrelated transactions, to unaffiliated third parties: i) our corporate headquarters and ancillary office space in Grapevine, Texas for $28.5 million, net of costs to sell and ii) a nearby refurbishment center for $15.2 million, net of costs to sell. In connection with each of the sales, we leased back from the applicable purchasers our corporate headquarters for an initial term of ten years and refurbishment center for an initial term of two years.',\n",
       "     'metadata': {'source': None,\n",
       "      'source_id': None,\n",
       "      'url': None,\n",
       "      'created_at': '1680052098.0',\n",
       "      'author': 'GME',\n",
       "      'document_id': '0001326380-23-000019-645-650'},\n",
       "     'embedding': None,\n",
       "     'score': 0.792875946},\n",
       "    {'id': '0001326380-23-000019-675-680_0',\n",
       "     'text': 'Revenues earned related to our NFT digital asset wallet and marketplace are recognized in net sales in our Consolidated Statement of Operations. Revenues earned from our digital asset wallet and NFT marketplace were not material to the consolidated financial statements for fiscal 2022.Trade NamesOur trade names consisted of Micromania, our retail operations business in France, which we acquired in 2008; and formerly ThinkGeek, a collectibles retailer, which we acquired in 2015. We no longer operate stores under the ThinkGeek brand. As a result of an impairment test performed during fiscal 2020, we recognized an impairment charge of $0.6 million and $0.5 million and related to our Micromania and ThinkGeek trade names, respectively. There were no impairment charges recognized during fiscal 2022 or 2021.',\n",
       "     'metadata': {'source': None,\n",
       "      'source_id': None,\n",
       "      'url': None,\n",
       "      'created_at': '1680052098.0',\n",
       "      'author': 'GME',\n",
       "      'document_id': '0001326380-23-000019-675-680'},\n",
       "     'embedding': None,\n",
       "     'score': 0.791523933}]}]}"
      ]
     },
     "execution_count": 15,
     "metadata": {},
     "output_type": "execute_result"
    }
   ],
   "source": [
    "res = requests.post(\n",
    "    \"http://localhost:8080/query\",\n",
    "    headers=headers,\n",
    "    json={\n",
    "        'queries': [{\"query\": \"Geeknet acquisition\", \"top_k\": 3, \"filter\":{\n",
    "        \"author\": \"GME\",\n",
    "    }}]\n",
    "    }\n",
    ")\n",
    "res.json()"
   ]
  },
  {
   "cell_type": "code",
   "execution_count": null,
   "metadata": {},
   "outputs": [],
   "source": []
  }
 ],
 "metadata": {
  "kernelspec": {
   "display_name": "Python 3",
   "language": "python",
   "name": "python3"
  },
  "language_info": {
   "codemirror_mode": {
    "name": "ipython",
    "version": 3
   },
   "file_extension": ".py",
   "mimetype": "text/x-python",
   "name": "python",
   "nbconvert_exporter": "python",
   "pygments_lexer": "ipython3",
   "version": "3.10.9 (main, Dec 15 2022, 18:18:30) [Clang 14.0.0 (clang-1400.0.29.202)]"
  },
  "orig_nbformat": 4,
  "vscode": {
   "interpreter": {
    "hash": "aee8b7b246df8f9039afb4144a1f6fd8d2ca17a180786b69acc140d282b71a49"
   }
  }
 },
 "nbformat": 4,
 "nbformat_minor": 2
}
